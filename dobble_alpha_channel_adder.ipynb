{
 "cells": [
  {
   "cell_type": "code",
   "execution_count": 3,
   "metadata": {},
   "outputs": [],
   "source": [
    "import numpy as np\n",
    "import cv2\n",
    "import os\n",
    "from tqdm import tqdm\n",
    "import random\n",
    "import os\n",
    "import matplotlib.pyplot as plt\n",
    "import matplotlib.image as mpimg\n",
    "import matplotlib.patches as patches\n",
    "import pickle\n",
    "from glob import glob\n",
    "#import imgaug as ia\n",
    "#from imgaug import augmenters as iaa\n",
    "#from shapely.geometry import Polygon\n",
    "from pathlib import Path"
   ]
  },
  {
   "cell_type": "code",
   "execution_count": 4,
   "metadata": {},
   "outputs": [],
   "source": [
    "PATH = Path(\"data/combined\")\n",
    "paths = [i for i in PATH.iterdir() if \"alpha\" not in str(i)]"
   ]
  },
  {
   "cell_type": "code",
   "execution_count": 5,
   "metadata": {},
   "outputs": [],
   "source": [
    "alpha = cv2.imread(\"data/combined/invertedalpha.png\", cv2.IMREAD_UNCHANGED)\n",
    "alpha = alpha.astype(float)\n",
    "dummy, dummy, dummy, inv_alpha_channel = cv2.split(alpha)"
   ]
  },
  {
   "cell_type": "code",
   "execution_count": 6,
   "metadata": {},
   "outputs": [],
   "source": [
    "# invert the area which contains alpha\n",
    "alpha_channel = 255-inv_alpha_channel"
   ]
  },
  {
   "cell_type": "code",
   "execution_count": 7,
   "metadata": {},
   "outputs": [
    {
     "data": {
      "text/plain": [
       "array([[255., 255., 255., ..., 255., 255., 255.],\n",
       "       [255., 255., 255., ..., 255., 255., 255.],\n",
       "       [255., 255., 255., ..., 255., 255., 255.],\n",
       "       ...,\n",
       "       [255., 255., 255., ..., 255., 255., 255.],\n",
       "       [255., 255., 255., ..., 255., 255., 255.],\n",
       "       [255., 255., 255., ..., 255., 255., 255.]])"
      ]
     },
     "execution_count": 7,
     "metadata": {},
     "output_type": "execute_result"
    }
   ],
   "source": [
    "inv_alpha_channel"
   ]
  },
  {
   "cell_type": "code",
   "execution_count": 10,
   "metadata": {},
   "outputs": [],
   "source": [
    "img = cv2.imread(str(paths[0]))\n",
    "img = img.astype(float)\n",
    "b_channel, g_channel, r_channel = cv2.split(img)\n",
    "img_BGRA = cv2.merge((b_channel, g_channel, r_channel, alpha_channel))"
   ]
  },
  {
   "cell_type": "code",
   "execution_count": 11,
   "metadata": {},
   "outputs": [],
   "source": [
    "for i in range(len(paths)):\n",
    "    img = cv2.imread(str(paths[i]))\n",
    "    #cv2.imshow(\"outImg\", img/255)\n",
    "    #cv2.waitKey(0)\n",
    "    img = img.astype(float)\n",
    "    b_channel, g_channel, r_channel = cv2.split(img)\n",
    "    new_b, new_g, new_r = b_channel+inv_alpha_channel, g_channel+inv_alpha_channel, r_channel+inv_alpha_channel\n",
    "    new_b[new_b>255] = 255\n",
    "    new_g[new_g>255] = 232\n",
    "    new_r[new_r>255] = 244\n",
    "    img_BGRA = cv2.merge((new_b, new_g, new_r, alpha_channel))\n",
    "    cv2.imwrite(\"data/alphas/\" + str(i) + \".png\",img_BGRA)"
   ]
  },
  {
   "cell_type": "code",
   "execution_count": null,
   "metadata": {},
   "outputs": [],
   "source": []
  }
 ],
 "metadata": {
  "kernelspec": {
   "display_name": "Python 3",
   "language": "python",
   "name": "python3"
  },
  "language_info": {
   "codemirror_mode": {
    "name": "ipython",
    "version": 3
   },
   "file_extension": ".py",
   "mimetype": "text/x-python",
   "name": "python",
   "nbconvert_exporter": "python",
   "pygments_lexer": "ipython3",
   "version": "3.7.2"
  }
 },
 "nbformat": 4,
 "nbformat_minor": 1
}
